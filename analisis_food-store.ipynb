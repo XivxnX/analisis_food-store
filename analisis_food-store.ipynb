{
 "cells": [
  {
   "cell_type": "markdown",
   "id": "b7af593a",
   "metadata": {},
   "source": [
    "# Análisis para tienda de alimentos\n",
    "## Objetivo:\n",
    "Estudiar el comportamiento de los usuarios para la aplicación de la empresa.\n",
    "\n",
    "### Objetivos específicos:\n",
    "* Análisis exploratorio:\n",
    "  * Número de eventos y usuarios en los registros\n",
    "  * Promedio de eventos por usuario\n",
    "  * Periodo de los datos\n",
    "  * Confirmación de 3 grupos experimentales\n",
    "\n",
    "* Análisis de embudo:\n",
    "  * Elaborar el embudo\n",
    "  * Proporción de usuarios por cada evento\n",
    "  * Proporción de usuarios que pasan a la siguiente etapa\n",
    "  * Evaluar las etapas\n",
    "  * Cantidad de usuarios que completan el viaje (primer evento hasta pago)\n",
    "\n",
    "* Análisis de experimento A/A/B:\n",
    "  * Número de usuarios por grupo\n",
    "  * Evaluar diferencia entre grupos control (A/A)\n",
    "  * Evaluar diferencia entre eventos para los grupos control\n",
    "  * Comparar diferencia de grupos control con grupo con variante"
   ]
  },
  {
   "cell_type": "markdown",
   "id": "3f901f3e",
   "metadata": {},
   "source": [
    "## Diccionario de datos:\n",
    "* ``EventName``: nombre del evento.\n",
    "* ``DeviceIDHash``: identificador de usuario unívoco.\n",
    "* ``EventTimestamp``: hora del evento.\n",
    "* ``ExpId``: número de experimento. 246 y 247 son los grupos de control, y 248 es el grupo de prueba."
   ]
  },
  {
   "cell_type": "code",
   "execution_count": 1,
   "id": "9628bf85",
   "metadata": {},
   "outputs": [],
   "source": [
    "# importar librerías\n",
    "import pandas as pd\n",
    "import numpy as np\n",
    "import matplotlib.pyplot as plt\n",
    "import seaborn as sns"
   ]
  },
  {
   "cell_type": "code",
   "execution_count": 2,
   "id": "1fdd4bf1",
   "metadata": {},
   "outputs": [],
   "source": [
    "# importar datasets\n",
    "events = pd.read_csv('logs_exp_us.csv', sep='\\t')"
   ]
  },
  {
   "cell_type": "markdown",
   "id": "7a3f629f",
   "metadata": {},
   "source": [
    "# Visualización general de los datos"
   ]
  },
  {
   "cell_type": "code",
   "execution_count": 3,
   "id": "2c50548a",
   "metadata": {},
   "outputs": [
    {
     "name": "stdout",
     "output_type": "stream",
     "text": [
      "<class 'pandas.core.frame.DataFrame'>\n",
      "RangeIndex: 244126 entries, 0 to 244125\n",
      "Data columns (total 4 columns):\n",
      " #   Column          Non-Null Count   Dtype \n",
      "---  ------          --------------   ----- \n",
      " 0   EventName       244126 non-null  object\n",
      " 1   DeviceIDHash    244126 non-null  int64 \n",
      " 2   EventTimestamp  244126 non-null  int64 \n",
      " 3   ExpId           244126 non-null  int64 \n",
      "dtypes: int64(3), object(1)\n",
      "memory usage: 7.5+ MB\n",
      "\n",
      " Hay 413 valores duplicados\n",
      "\n",
      "                       EventName         DeviceIDHash  EventTimestamp  ExpId\n",
      "166363         CartScreenAppear  7958840100052483837      1565020854    246\n",
      "233336       OffersScreenAppear   933014534298828939      1565190698    248\n",
      "145810       OffersScreenAppear  3024197421055968640      1564987968    247\n",
      "185901         CartScreenAppear  4699227090087181127      1565080317    246\n",
      "241297  PaymentScreenSuccessful  4369662623769092250      1565203845    248\n"
     ]
    }
   ],
   "source": [
    "# información general de 'logs_exp_us'\n",
    "events.info()\n",
    "print('\\n', 'Hay', events.duplicated().sum(), 'valores duplicados')\n",
    "print('\\n', events.sample(5))"
   ]
  },
  {
   "cell_type": "markdown",
   "id": "b74b8aea",
   "metadata": {},
   "source": [
    "### Comentario:\n",
    "En el dataset no hay valores ausentes. Sin embargo, hay valores duplicados, por lo que se tiene que revisar estos valores, determinar su posible explicación y definir cómo deben de ser tratados. Por otro lado, hay que modificar el nombre de las columnas y en el caso de \"EventTimestamp\" los valores se encuentran en segundos por lo que hay que convertirlo a un tipo que se maneje con mayor facilidad.\n",
    "\n",
    "Además puede resultar conveniente definir el tipo de datos para las columnas \"DeviceIDHash\" y \"ExpId\" ya que al ser variables categóricas pueden ser manejadas como `strings`."
   ]
  },
  {
   "cell_type": "markdown",
   "id": "cf3560aa",
   "metadata": {},
   "source": [
    "# Limpieza de datos"
   ]
  },
  {
   "cell_type": "code",
   "execution_count": 4,
   "id": "36cb691f",
   "metadata": {},
   "outputs": [],
   "source": [
    "# definir nombres de columnas\n",
    "events.columns = ['event_name', 'uid', 'dt', 'exp_id']"
   ]
  },
  {
   "cell_type": "code",
   "execution_count": 8,
   "id": "3d011a22",
   "metadata": {},
   "outputs": [],
   "source": [
    "# convertir a strings\n",
    "events['uid'] = events['uid'].astype('str')\n",
    "events['exp_id'] = events['exp_id'].astype('str')\n",
    "\n",
    "# convertir a datetime\n",
    "events['dt'] = pd.to_datetime(events['dt'], unit='s')"
   ]
  },
  {
   "cell_type": "code",
   "execution_count": 15,
   "id": "12a4758e",
   "metadata": {},
   "outputs": [
    {
     "name": "stdout",
     "output_type": "stream",
     "text": [
      "                     event_name                  uid                  dt  \\\n",
      "453            MainScreenAppear  5613408041324010552 2019-07-30 08:19:44   \n",
      "2350           CartScreenAppear  1694940645335807244 2019-07-31 21:51:39   \n",
      "3573           MainScreenAppear   434103746454591587 2019-08-01 02:59:37   \n",
      "4076           MainScreenAppear  3761373764179762633 2019-08-01 03:47:46   \n",
      "4803           MainScreenAppear  2835328739789306622 2019-08-01 04:44:01   \n",
      "...                         ...                  ...                 ...   \n",
      "242329         MainScreenAppear  8870358373313968633 2019-08-07 19:26:44   \n",
      "242332  PaymentScreenSuccessful  4718002964983105693 2019-08-07 19:26:45   \n",
      "242360  PaymentScreenSuccessful  2382591782303281935 2019-08-07 19:27:29   \n",
      "242362         CartScreenAppear  2382591782303281935 2019-08-07 19:27:29   \n",
      "242635         MainScreenAppear  4097782667445790512 2019-08-07 19:36:58   \n",
      "\n",
      "       exp_id  \n",
      "453       248  \n",
      "2350      248  \n",
      "3573      248  \n",
      "4076      247  \n",
      "4803      248  \n",
      "...       ...  \n",
      "242329    247  \n",
      "242332    247  \n",
      "242360    246  \n",
      "242362    246  \n",
      "242635    246  \n",
      "\n",
      "[413 rows x 4 columns]\n",
      "\n",
      " Número de usuarios: 7551\n"
     ]
    }
   ],
   "source": [
    "print(events[events.duplicated()])\n",
    "print('\\n', 'Número de usuarios:', events['uid'].nunique())"
   ]
  },
  {
   "cell_type": "markdown",
   "id": "a42cba80",
   "metadata": {},
   "source": [
    "### Comentario \n",
    "Después de haber estudiado los registros duplicados, me doy cuenta de que estos muestran que hay usuarios que realizaron varias veces la misma acción en el día, pero en horarios distintos, estos valores no deben de ser borrados ya que pueden servir para algunos tipos de análisis que involucren el comportamiento del usuario. Sin emabrgo, se debe de tomar en cuenta la presencia de estos a la hora de realizar los embudos y no aumentar registros por evento."
   ]
  }
 ],
 "metadata": {
  "kernelspec": {
   "display_name": ".venv",
   "language": "python",
   "name": "python3"
  },
  "language_info": {
   "codemirror_mode": {
    "name": "ipython",
    "version": 3
   },
   "file_extension": ".py",
   "mimetype": "text/x-python",
   "name": "python",
   "nbconvert_exporter": "python",
   "pygments_lexer": "ipython3",
   "version": "3.12.7"
  }
 },
 "nbformat": 4,
 "nbformat_minor": 5
}
