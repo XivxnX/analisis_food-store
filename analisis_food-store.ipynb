{
 "cells": [
  {
   "cell_type": "markdown",
   "id": "b7af593a",
   "metadata": {},
   "source": [
    "# Análisis para tienda de alimentos\n",
    "## Objetivo:\n",
    "Estudiar el comportamiento de los usuarios para la aplicación de la empresa.\n",
    "\n",
    "### Objetivos específicos:\n",
    "* Análisis exploratorio:\n",
    "  * Número de eventos y usuarios en los registros\n",
    "  * Promedio de eventos por usuario\n",
    "  * Periodo de los datos\n",
    "  * Confirmación de 3 grupos experimentales\n",
    "\n",
    "* Análisis de embudo:\n",
    "  * Elaborar el embudo\n",
    "  * Proporción de usuarios por cada evento\n",
    "  * Proporción de usuarios que pasan a la siguiente etapa\n",
    "  * Evaluar las etapas\n",
    "  * Cantidad de usuarios que completan el viaje (primer evento hasta pago)\n",
    "\n",
    "* Análisis de experimento A/A/B:\n",
    "  * Número de usuarios por grupo\n",
    "  * Evaluar diferencia entre grupos control (A/A)\n",
    "  * Evaluar diferencia entre eventos para los grupos control\n",
    "  * Comparar diferencia de grupos control con grupo con variante"
   ]
  },
  {
   "cell_type": "markdown",
   "id": "3f901f3e",
   "metadata": {},
   "source": [
    "## Diccionario de datos:\n",
    "* ``EventName``: nombre del evento.\n",
    "* ``DeviceIDHash``: identificador de usuario unívoco.\n",
    "* ``EventTimestamp``: hora del evento.\n",
    "* ``ExpId``: número de experimento. 246 y 247 son los grupos de control, y 248 es el grupo de prueba."
   ]
  },
  {
   "cell_type": "code",
   "execution_count": 1,
   "id": "9628bf85",
   "metadata": {},
   "outputs": [],
   "source": [
    "# importar librerías\n",
    "import pandas as pd\n",
    "import numpy as np\n",
    "import matplotlib.pyplot as plt\n",
    "import seaborn as sns"
   ]
  },
  {
   "cell_type": "code",
   "execution_count": 2,
   "id": "1fdd4bf1",
   "metadata": {},
   "outputs": [],
   "source": [
    "# importar datasets\n",
    "events = pd.read_csv('logs_exp_us.csv', sep='\\t')"
   ]
  },
  {
   "cell_type": "markdown",
   "id": "7a3f629f",
   "metadata": {},
   "source": [
    "# Visualización general de los datos"
   ]
  },
  {
   "cell_type": "code",
   "execution_count": 3,
   "id": "2c50548a",
   "metadata": {},
   "outputs": [
    {
     "name": "stdout",
     "output_type": "stream",
     "text": [
      "<class 'pandas.core.frame.DataFrame'>\n",
      "RangeIndex: 244126 entries, 0 to 244125\n",
      "Data columns (total 4 columns):\n",
      " #   Column          Non-Null Count   Dtype \n",
      "---  ------          --------------   ----- \n",
      " 0   EventName       244126 non-null  object\n",
      " 1   DeviceIDHash    244126 non-null  int64 \n",
      " 2   EventTimestamp  244126 non-null  int64 \n",
      " 3   ExpId           244126 non-null  int64 \n",
      "dtypes: int64(3), object(1)\n",
      "memory usage: 7.5+ MB\n",
      "\n",
      " Hay 413 valores duplicados\n",
      "\n",
      "                  EventName         DeviceIDHash  EventTimestamp  ExpId\n",
      "216422  OffersScreenAppear  8131554249272658553      1565157189    248\n",
      "20960   OffersScreenAppear  3488844663662468837      1564665564    248\n",
      "80050   OffersScreenAppear  4634716865119957031      1564818562    246\n",
      "177890    MainScreenAppear  5563901287895361556      1565060310    248\n",
      "78052     CartScreenAppear  9182444363400946277      1564813507    247\n"
     ]
    }
   ],
   "source": [
    "# información general de 'logs_exp_us'\n",
    "events.info()\n",
    "print('\\n', 'Hay', events.duplicated().sum(), 'valores duplicados')\n",
    "print('\\n', events.sample(5))"
   ]
  },
  {
   "cell_type": "markdown",
   "id": "b74b8aea",
   "metadata": {},
   "source": [
    "### Comentario:\n",
    "En el dataset no hay valores ausentes. Sin embargo, hay valores duplicados, por lo que se tiene que revisar estos valores, determinar su posible explicación y definir cómo deben de ser tratados. Por otro lado, hay que modificar el nombre de las columnas y en el caso de \"EventTimestamp\" los valores se encuentran en segundos por lo que hay que convertirlo a un tipo que se maneje con mayor facilidad.\n",
    "\n",
    "Además puede resultar conveniente definir el tipo de datos para las columnas \"DeviceIDHash\" y \"ExpId\" ya que al ser variables categóricas pueden ser manejadas como `strings`."
   ]
  },
  {
   "cell_type": "markdown",
   "id": "cf3560aa",
   "metadata": {},
   "source": [
    "# Limpieza de datos"
   ]
  },
  {
   "cell_type": "code",
   "execution_count": 4,
   "id": "36cb691f",
   "metadata": {},
   "outputs": [],
   "source": [
    "# definir nombres de columnas\n",
    "events.columns = ['event_name', 'uid', 'dt', 'exp_id']"
   ]
  },
  {
   "cell_type": "code",
   "execution_count": 5,
   "id": "3d011a22",
   "metadata": {},
   "outputs": [],
   "source": [
    "# convertir a strings\n",
    "events['uid'] = events['uid'].astype('str')\n",
    "events['exp_id'] = events['exp_id'].astype('str')\n",
    "\n",
    "# convertir a datetime\n",
    "events['dt'] = pd.to_datetime(events['dt'], unit='s')"
   ]
  },
  {
   "cell_type": "code",
   "execution_count": 6,
   "id": "12a4758e",
   "metadata": {},
   "outputs": [
    {
     "name": "stdout",
     "output_type": "stream",
     "text": [
      "                     event_name                  uid                  dt  \\\n",
      "453            MainScreenAppear  5613408041324010552 2019-07-30 08:19:44   \n",
      "2350           CartScreenAppear  1694940645335807244 2019-07-31 21:51:39   \n",
      "3573           MainScreenAppear   434103746454591587 2019-08-01 02:59:37   \n",
      "4076           MainScreenAppear  3761373764179762633 2019-08-01 03:47:46   \n",
      "4803           MainScreenAppear  2835328739789306622 2019-08-01 04:44:01   \n",
      "...                         ...                  ...                 ...   \n",
      "242329         MainScreenAppear  8870358373313968633 2019-08-07 19:26:44   \n",
      "242332  PaymentScreenSuccessful  4718002964983105693 2019-08-07 19:26:45   \n",
      "242360  PaymentScreenSuccessful  2382591782303281935 2019-08-07 19:27:29   \n",
      "242362         CartScreenAppear  2382591782303281935 2019-08-07 19:27:29   \n",
      "242635         MainScreenAppear  4097782667445790512 2019-08-07 19:36:58   \n",
      "\n",
      "       exp_id  \n",
      "453       248  \n",
      "2350      248  \n",
      "3573      248  \n",
      "4076      247  \n",
      "4803      248  \n",
      "...       ...  \n",
      "242329    247  \n",
      "242332    247  \n",
      "242360    246  \n",
      "242362    246  \n",
      "242635    246  \n",
      "\n",
      "[413 rows x 4 columns]\n",
      "\n",
      " Registros post-limpieza: (243713, 4)\n"
     ]
    }
   ],
   "source": [
    "# revisar duplicados\n",
    "duplicates = events[events.duplicated()]\n",
    "\n",
    "print(duplicates)\n",
    "\n",
    "# borrar duplicados\n",
    "events.drop_duplicates(inplace=True)\n",
    "\n",
    "print('\\n', 'Registros post-limpieza:', events.shape)"
   ]
  },
  {
   "cell_type": "markdown",
   "id": "a42cba80",
   "metadata": {},
   "source": [
    "### Comentario \n",
    "Los valores duplicados muestran la probabilidad de que los sistemas de registro de eventos pueden estar fallando y estarse duplicando los registros, sugiero que estos puedan ser revisados y de ser posible se revise las condiciones que se deben cumplir para asegurar el correcto funcionamiento."
   ]
  }
 ],
 "metadata": {
  "kernelspec": {
   "display_name": ".venv",
   "language": "python",
   "name": "python3"
  },
  "language_info": {
   "codemirror_mode": {
    "name": "ipython",
    "version": 3
   },
   "file_extension": ".py",
   "mimetype": "text/x-python",
   "name": "python",
   "nbconvert_exporter": "python",
   "pygments_lexer": "ipython3",
   "version": "3.12.7"
  }
 },
 "nbformat": 4,
 "nbformat_minor": 5
}
