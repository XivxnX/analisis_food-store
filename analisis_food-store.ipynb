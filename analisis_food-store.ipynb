{
 "cells": [
  {
   "cell_type": "markdown",
   "id": "b7af593a",
   "metadata": {},
   "source": [
    "# Análisis para tienda de alimentos\n",
    "## Objetivo:\n",
    "Estudiar el comportamiento de los usuarios para la aplicación de la empresa.\n",
    "\n",
    "### Objetivos específicos:\n",
    "* Análisis exploratorio:\n",
    "  * Número de eventos y usuarios en los registros\n",
    "  * Promedio de eventos por usuario\n",
    "  * Periodo de los datos\n",
    "  * Confirmación de 3 grupos experimentales\n",
    "\n",
    "* Análisis de embudo:\n",
    "  * Elaborar el embudo\n",
    "  * Proporción de usuarios por cada evento\n",
    "  * Proporción de usuarios que pasan a la siguiente etapa\n",
    "  * Evaluar las etapas\n",
    "  * Cantidad de usuarios que completan el viaje (primer evento hasta pago)\n",
    "\n",
    "* Análisis de experimento A/A/B:\n",
    "  * Número de usuarios por grupo\n",
    "  * Evaluar diferencia entre grupos control (A/A)\n",
    "  * Evaluar diferencia entre eventos para los grupos control\n",
    "  * Comparar diferencia de grupos control con grupo con variante"
   ]
  },
  {
   "cell_type": "markdown",
   "id": "3f901f3e",
   "metadata": {},
   "source": [
    "## Diccionario de datos:\n",
    "* ``EventName``: nombre del evento.\n",
    "* ``DeviceIDHash``: identificador de usuario unívoco.\n",
    "* ``EventTimestamp``: hora del evento.\n",
    "* ``ExpId``: número de experimento. 246 y 247 son los grupos de control, y 248 es el grupo de prueba."
   ]
  },
  {
   "cell_type": "code",
   "execution_count": 1,
   "id": "9628bf85",
   "metadata": {},
   "outputs": [],
   "source": [
    "# importar librerías\n",
    "import pandas as pd\n",
    "import numpy as np\n",
    "import matplotlib.pyplot as plt\n",
    "import seaborn as sns\n",
    "import plotly.express as px\n",
    "import plotly.graph_objects as go"
   ]
  },
  {
   "cell_type": "code",
   "execution_count": 2,
   "id": "1fdd4bf1",
   "metadata": {},
   "outputs": [],
   "source": [
    "# importar datasets\n",
    "events = pd.read_csv('logs_exp_us.csv', sep='\\t')"
   ]
  },
  {
   "cell_type": "markdown",
   "id": "7a3f629f",
   "metadata": {},
   "source": [
    "# Visualización general de los datos"
   ]
  },
  {
   "cell_type": "code",
   "execution_count": 3,
   "id": "2c50548a",
   "metadata": {},
   "outputs": [
    {
     "name": "stdout",
     "output_type": "stream",
     "text": [
      "<class 'pandas.core.frame.DataFrame'>\n",
      "RangeIndex: 244126 entries, 0 to 244125\n",
      "Data columns (total 4 columns):\n",
      " #   Column          Non-Null Count   Dtype \n",
      "---  ------          --------------   ----- \n",
      " 0   EventName       244126 non-null  object\n",
      " 1   DeviceIDHash    244126 non-null  int64 \n",
      " 2   EventTimestamp  244126 non-null  int64 \n",
      " 3   ExpId           244126 non-null  int64 \n",
      "dtypes: int64(3), object(1)\n",
      "memory usage: 7.5+ MB\n",
      "\n",
      " Hay 413 valores duplicados\n",
      "\n",
      "                  EventName         DeviceIDHash  EventTimestamp  ExpId\n",
      "171824    MainScreenAppear  3637703099893995627      1565028470    248\n",
      "108983    CartScreenAppear  3610536745613892312      1564890682    248\n",
      "71820     MainScreenAppear  6495063263309096180      1564775175    247\n",
      "51880   OffersScreenAppear  6251788373698913462      1564741174    248\n",
      "69327   OffersScreenAppear  1518481827927168526      1564770030    246\n"
     ]
    }
   ],
   "source": [
    "# información general de 'logs_exp_us'\n",
    "events.info()\n",
    "print('\\n', 'Hay', events.duplicated().sum(), 'valores duplicados')\n",
    "print('\\n', events.sample(5))"
   ]
  },
  {
   "cell_type": "markdown",
   "id": "b74b8aea",
   "metadata": {},
   "source": [
    "### Comentario:\n",
    "En el dataset no hay valores ausentes. Sin embargo, hay valores duplicados, por lo que se tiene que revisar estos valores, determinar su posible explicación y definir cómo deben de ser tratados. Por otro lado, hay que modificar el nombre de las columnas y en el caso de \"EventTimestamp\" los valores se encuentran en segundos por lo que hay que convertirlo a un tipo que se maneje con mayor facilidad y asignar una columna para guardar exclusivamente la fecha del evento.\n",
    "\n",
    "Además puede resultar conveniente definir el tipo de datos para las columnas \"DeviceIDHash\" y \"ExpId\" ya que al ser variables categóricas pueden ser manejadas como `strings`."
   ]
  },
  {
   "cell_type": "markdown",
   "id": "cf3560aa",
   "metadata": {},
   "source": [
    "# Limpieza de datos"
   ]
  },
  {
   "cell_type": "code",
   "execution_count": 4,
   "id": "36cb691f",
   "metadata": {},
   "outputs": [],
   "source": [
    "# definir nombres de columnas\n",
    "events.columns = ['event_name', 'uid', 'dt', 'group']"
   ]
  },
  {
   "cell_type": "code",
   "execution_count": 5,
   "id": "3d011a22",
   "metadata": {},
   "outputs": [],
   "source": [
    "# convertir a strings\n",
    "events['uid'] = events['uid'].astype('str')\n",
    "events['group'] = events['group'].astype('str')\n",
    "\n",
    "# convertir a datetime\n",
    "events['dt'] = pd.to_datetime(events['dt'], unit='s')"
   ]
  },
  {
   "cell_type": "code",
   "execution_count": 6,
   "id": "295bf1cb",
   "metadata": {},
   "outputs": [],
   "source": [
    "# agregar columna de fecha\n",
    "events ['date'] = events['dt'].dt.date\n",
    "events['date'] = pd.to_datetime(events['date'])"
   ]
  },
  {
   "cell_type": "code",
   "execution_count": 7,
   "id": "12a4758e",
   "metadata": {},
   "outputs": [
    {
     "name": "stdout",
     "output_type": "stream",
     "text": [
      "                     event_name                  uid                  dt  \\\n",
      "453            MainScreenAppear  5613408041324010552 2019-07-30 08:19:44   \n",
      "2350           CartScreenAppear  1694940645335807244 2019-07-31 21:51:39   \n",
      "3573           MainScreenAppear   434103746454591587 2019-08-01 02:59:37   \n",
      "4076           MainScreenAppear  3761373764179762633 2019-08-01 03:47:46   \n",
      "4803           MainScreenAppear  2835328739789306622 2019-08-01 04:44:01   \n",
      "...                         ...                  ...                 ...   \n",
      "242329         MainScreenAppear  8870358373313968633 2019-08-07 19:26:44   \n",
      "242332  PaymentScreenSuccessful  4718002964983105693 2019-08-07 19:26:45   \n",
      "242360  PaymentScreenSuccessful  2382591782303281935 2019-08-07 19:27:29   \n",
      "242362         CartScreenAppear  2382591782303281935 2019-08-07 19:27:29   \n",
      "242635         MainScreenAppear  4097782667445790512 2019-08-07 19:36:58   \n",
      "\n",
      "       group       date  \n",
      "453      248 2019-07-30  \n",
      "2350     248 2019-07-31  \n",
      "3573     248 2019-08-01  \n",
      "4076     247 2019-08-01  \n",
      "4803     248 2019-08-01  \n",
      "...      ...        ...  \n",
      "242329   247 2019-08-07  \n",
      "242332   247 2019-08-07  \n",
      "242360   246 2019-08-07  \n",
      "242362   246 2019-08-07  \n",
      "242635   246 2019-08-07  \n",
      "\n",
      "[413 rows x 5 columns]\n",
      "\n",
      " Registros post-limpieza: (243713, 5)\n"
     ]
    }
   ],
   "source": [
    "# revisar duplicados\n",
    "duplicates = events[events.duplicated()]\n",
    "\n",
    "print(duplicates)\n",
    "\n",
    "# borrar duplicados\n",
    "events.drop_duplicates(inplace=True)\n",
    "\n",
    "print('\\n', 'Registros post-limpieza:', events.shape)"
   ]
  },
  {
   "cell_type": "markdown",
   "id": "a42cba80",
   "metadata": {},
   "source": [
    "### Comentario \n",
    "Los valores duplicados muestran la probabilidad de que los sistemas de registro de eventos pueden estar fallando y estarse duplicando los registros, sugiero que estos puedan ser revisados y de ser posible se revise las condiciones que se deben cumplir para asegurar el correcto funcionamiento. Los valores duplicados serán borrados."
   ]
  },
  {
   "cell_type": "markdown",
   "id": "d2d32038",
   "metadata": {},
   "source": [
    "# Análisis exploratorio"
   ]
  },
  {
   "cell_type": "code",
   "execution_count": 8,
   "id": "3d11b605",
   "metadata": {},
   "outputs": [
    {
     "name": "stdout",
     "output_type": "stream",
     "text": [
      "Número total de usuarios: 7551\n",
      "Total de registros de eventos: 243713\n",
      "Promedio de eventos por usuario: 32.0\n"
     ]
    }
   ],
   "source": [
    "# número total de usuarios\n",
    "total_users = events['uid'].nunique()\n",
    "\n",
    "# total de registros\n",
    "total_events = len(events)\n",
    "\n",
    "# número de eventos por usuario\n",
    "event_per_users = events.groupby('uid')['event_name'].count().mean().round()\n",
    "\n",
    "print(f'Número total de usuarios: {total_users}')\n",
    "print(f'Total de registros de eventos: {total_events}')\n",
    "print(f'Promedio de eventos por usuario: {event_per_users}')"
   ]
  },
  {
   "cell_type": "code",
   "execution_count": 9,
   "id": "a1d518a9",
   "metadata": {},
   "outputs": [
    {
     "name": "stdout",
     "output_type": "stream",
     "text": [
      "Fecha inicial: 2019-07-25 00:00:00\n",
      "Fecha final: 2019-08-07 00:00:00\n"
     ]
    },
    {
     "data": {
      "image/png": "[encoded data removed]",
      "text/plain": [
       "<Figure size 1800x400 with 1 Axes>"
      ]
     },
     "metadata": {},
     "output_type": "display_data"
    }
   ],
   "source": [
    "# visualización de periodo\n",
    "print('Fecha inicial:', events['date'].min())\n",
    "print('Fecha final:', events['date'].max())\n",
    "\n",
    "# histograma: distribución en fecha y hora\n",
    "plt.style.use('dark_background')\n",
    "plt.figure(figsize=(18,4))\n",
    "events['dt'].hist(grid=False, bins=20)\n",
    "plt.show()"
   ]
  },
  {
   "cell_type": "code",
   "execution_count": 10,
   "id": "da2cb8e7",
   "metadata": {},
   "outputs": [
    {
     "name": "stdout",
     "output_type": "stream",
     "text": [
      "\n",
      " Registros post-filtrado: (240887, 5)\n",
      "Número total de usuarios: 7534\n"
     ]
    }
   ],
   "source": [
    "# filtrado de periodo relevante para el experimento\n",
    "experiment_period = events[events['date'] >= '2019-08-01']\n",
    "\n",
    "print('\\n', 'Registros post-filtrado:', experiment_period.shape)\n",
    "print('Número total de usuarios:', experiment_period['uid'].nunique())"
   ]
  },
  {
   "cell_type": "code",
   "execution_count": 11,
   "id": "cb761529",
   "metadata": {},
   "outputs": [
    {
     "data": {
      "image/png": "[encoded data removed]",
      "text/plain": [
       "<Figure size 1000x400 with 1 Axes>"
      ]
     },
     "metadata": {},
     "output_type": "display_data"
    }
   ],
   "source": [
    "# número de usuarios en cada grupo\n",
    "users_per_group = experiment_period.groupby('group', as_index=False)['uid'].nunique()\n",
    "\n",
    "# gráfico de barras: número de usuarios en cada grupo\n",
    "plt.figure(figsize=(10,4))\n",
    "sns.barplot(users_per_group,\n",
    "            x='group',\n",
    "            y='uid',\n",
    "            hue='group')\n",
    "plt.title('Usuarios por grupo')\n",
    "plt.xlabel('Grupo')\n",
    "plt.ylabel('Número de usuarios')\n",
    "plt.xticks(rotation=45)\n",
    "plt.show()"
   ]
  },
  {
   "cell_type": "code",
   "execution_count": 12,
   "id": "817f26b7",
   "metadata": {},
   "outputs": [
    {
     "name": "stdout",
     "output_type": "stream",
     "text": [
      "Usuarios repetidos en grupos: 0\n"
     ]
    }
   ],
   "source": [
    "# lista de usuarios\n",
    "users_group_246 = experiment_period[experiment_period['group'] == 246]['uid'].unique()\n",
    "users_group_247 = experiment_period[experiment_period['group'] == 247]['uid'].unique()\n",
    "users_group_248 = experiment_period[experiment_period['group'] == 248]['uid'].unique()\n",
    "\n",
    "# usuarios en común en los grupos\n",
    "common_users = np.intersect1d(\n",
    "    np.intersect1d(users_group_246, users_group_247),\n",
    "    users_group_248)\n",
    "print('Usuarios repetidos en grupos:', len(common_users))"
   ]
  },
  {
   "cell_type": "markdown",
   "id": "c6f4dd9a",
   "metadata": {},
   "source": [
    "### Comentario:\n",
    "De manera general, el periodo de los registros abarca de 2019/07/25 - 2019/08/07 obtuvimos 243,713 registros de eventos, en donde cada usuario en promedio realiza 32 eventos. El número total de usuarios inicialmente fue de 7,551.\n",
    "\n",
    "Al visualizar la distribución de los registros, se puede notar que antes del 2019/08/01 prácticamente no había registros de usuarios, por lo que el periodo a partir del 1° de agosto será el que se considere para analizar los resultados, entre estos periodos hay una diferencia de 17 usuarios, por lo que la segmentación del periodo no resulta perjudicial para el análisis.\n",
    "\n",
    "Finalmente, se puede apreciar que los 3 grupos experimentales se encuentran prácticamente equilibrados en el número de usuarios que contienen, de los cuales no hay usuarios repetidos entre ellos."
   ]
  },
  {
   "cell_type": "markdown",
   "id": "a9c0d8d3",
   "metadata": {},
   "source": [
    "# Análisis de embudo"
   ]
  },
  {
   "cell_type": "code",
   "execution_count": 13,
   "id": "a8c10024",
   "metadata": {},
   "outputs": [
    {
     "data": {
      "text/html": [
       "<div>\n",
       "<style scoped>\n",
       "    .dataframe tbody tr th:only-of-type {\n",
       "        vertical-align: middle;\n",
       "    }\n",
       "\n",
       "    .dataframe tbody tr th {\n",
       "        vertical-align: top;\n",
       "    }\n",
       "\n",
       "    .dataframe thead th {\n",
       "        text-align: right;\n",
       "    }\n",
       "</style>\n",
       "<table border=\"1\" class=\"dataframe\">\n",
       "  <thead>\n",
       "    <tr style=\"text-align: right;\">\n",
       "      <th></th>\n",
       "      <th>event</th>\n",
       "      <th>frecuency</th>\n",
       "    </tr>\n",
       "  </thead>\n",
       "  <tbody>\n",
       "    <tr>\n",
       "      <th>1</th>\n",
       "      <td>MainScreenAppear</td>\n",
       "      <td>117328</td>\n",
       "    </tr>\n",
       "    <tr>\n",
       "      <th>2</th>\n",
       "      <td>OffersScreenAppear</td>\n",
       "      <td>46333</td>\n",
       "    </tr>\n",
       "    <tr>\n",
       "      <th>0</th>\n",
       "      <td>CartScreenAppear</td>\n",
       "      <td>42303</td>\n",
       "    </tr>\n",
       "    <tr>\n",
       "      <th>3</th>\n",
       "      <td>PaymentScreenSuccessful</td>\n",
       "      <td>33918</td>\n",
       "    </tr>\n",
       "    <tr>\n",
       "      <th>4</th>\n",
       "      <td>Tutorial</td>\n",
       "      <td>1005</td>\n",
       "    </tr>\n",
       "  </tbody>\n",
       "</table>\n",
       "</div>"
      ],
      "text/plain": [
       "                     event  frecuency\n",
       "1         MainScreenAppear     117328\n",
       "2       OffersScreenAppear      46333\n",
       "0         CartScreenAppear      42303\n",
       "3  PaymentScreenSuccessful      33918\n",
       "4                 Tutorial       1005"
      ]
     },
     "execution_count": 13,
     "metadata": {},
     "output_type": "execute_result"
    }
   ],
   "source": [
    "# frecuencia de eventos\n",
    "event_frecuency = (\n",
    "    experiment_period.groupby('event_name', as_index=False)\n",
    "    ['uid'].count()\n",
    "    .sort_values(by='uid', ascending=False)\n",
    ")\n",
    "event_frecuency.columns = ['event', 'frecuency']\n",
    "\n",
    "event_frecuency"
   ]
  },
  {
   "cell_type": "code",
   "execution_count": 14,
   "id": "0831bb6a",
   "metadata": {},
   "outputs": [
    {
     "data": {
      "text/html": [
       "<div>\n",
       "<style scoped>\n",
       "    .dataframe tbody tr th:only-of-type {\n",
       "        vertical-align: middle;\n",
       "    }\n",
       "\n",
       "    .dataframe tbody tr th {\n",
       "        vertical-align: top;\n",
       "    }\n",
       "\n",
       "    .dataframe thead th {\n",
       "        text-align: right;\n",
       "    }\n",
       "</style>\n",
       "<table border=\"1\" class=\"dataframe\">\n",
       "  <thead>\n",
       "    <tr style=\"text-align: right;\">\n",
       "      <th></th>\n",
       "      <th>event</th>\n",
       "      <th>users</th>\n",
       "    </tr>\n",
       "  </thead>\n",
       "  <tbody>\n",
       "    <tr>\n",
       "      <th>1</th>\n",
       "      <td>MainScreenAppear</td>\n",
       "      <td>7419</td>\n",
       "    </tr>\n",
       "    <tr>\n",
       "      <th>2</th>\n",
       "      <td>OffersScreenAppear</td>\n",
       "      <td>4593</td>\n",
       "    </tr>\n",
       "    <tr>\n",
       "      <th>0</th>\n",
       "      <td>CartScreenAppear</td>\n",
       "      <td>3734</td>\n",
       "    </tr>\n",
       "    <tr>\n",
       "      <th>3</th>\n",
       "      <td>PaymentScreenSuccessful</td>\n",
       "      <td>3539</td>\n",
       "    </tr>\n",
       "    <tr>\n",
       "      <th>4</th>\n",
       "      <td>Tutorial</td>\n",
       "      <td>840</td>\n",
       "    </tr>\n",
       "  </tbody>\n",
       "</table>\n",
       "</div>"
      ],
      "text/plain": [
       "                     event  users\n",
       "1         MainScreenAppear   7419\n",
       "2       OffersScreenAppear   4593\n",
       "0         CartScreenAppear   3734\n",
       "3  PaymentScreenSuccessful   3539\n",
       "4                 Tutorial    840"
      ]
     },
     "execution_count": 14,
     "metadata": {},
     "output_type": "execute_result"
    }
   ],
   "source": [
    "# número de usuarios por evento\n",
    "funnel = (\n",
    "    experiment_period.groupby('event_name', as_index=False)\n",
    "    ['uid'].nunique()\n",
    "    .sort_values(by='uid', ascending=False)\n",
    ")\n",
    "funnel.columns = ['event', 'users']\n",
    "\n",
    "funnel"
   ]
  },
  {
   "cell_type": "code",
   "execution_count": 18,
   "id": "f682743e",
   "metadata": {},
   "outputs": [
    {
     "name": "stdout",
     "output_type": "stream",
     "text": [
      "                     event  users  proportion\n",
      "1         MainScreenAppear   7419   98.473586\n",
      "2       OffersScreenAppear   4593   60.963632\n",
      "0         CartScreenAppear   3734   49.561986\n",
      "3  PaymentScreenSuccessful   3539   46.973719\n",
      "4                 Tutorial    840   11.149456\n"
     ]
    },
    {
     "data": {
      "image/png": "[encoded data removed]",
      "text/plain": [
       "<Figure size 1500x400 with 1 Axes>"
      ]
     },
     "metadata": {},
     "output_type": "display_data"
    }
   ],
   "source": [
    "# proporción de usuarios que realizaron al menos una vez el evento\n",
    "funnel['proportion'] = (funnel['users'] / (experiment_period['uid'].nunique())) * 100\n",
    "print(funnel)\n",
    "\n",
    "plt.figure(figsize=(15,4))\n",
    "sns.barplot(funnel,\n",
    "            x='event',\n",
    "            y='proportion',\n",
    "            hue='event'\n",
    ")\n",
    "plt.title('Proporción de usuarios que realizaron el evento')\n",
    "plt.xlabel('Evento')\n",
    "plt.ylabel('Proporción (%)')\n",
    "plt.xticks(rotation=45)\n",
    "plt.show()"
   ]
  },
  {
   "cell_type": "code",
   "execution_count": 16,
   "id": "286ba476",
   "metadata": {},
   "outputs": [
    {
     "name": "stdout",
     "output_type": "stream",
     "text": [
      "                     event  users  proportion\n",
      "0         MainScreenAppear   7419      100.00\n",
      "1       OffersScreenAppear   4201       56.62\n",
      "2         CartScreenAppear   1767       23.82\n",
      "3  PaymentScreenSuccessful    454        6.12\n"
     ]
    },
    {
     "data": {
      "application/vnd.plotly.v1+json": {
       "config": {
        "plotlyServerURL": "https://plot.ly"
       },
       "data": [
        {
         "marker": {
          "color": "green"
         },
         "text": [
          "100.0%",
          "56.62%",
          "23.82%",
          "6.12%"
         ],
         "textinfo": "text+value",
         "type": "funnel",
         "x": {
          "bdata": "+xxpEOcGxgE=",
          "dtype": "i2"
         },
         "y": [
          "MainScreenAppear",
          "OffersScreenAppear",
          "CartScreenAppear",
          "PaymentScreenSuccessful"
         ]
        }
       ],
       "layout": {
        "font": {
         "color": "white"
        },
        "paper_bgcolor": "black",
        "plot_bgcolor": "black",
        "template": {
         "data": {
          "bar": [
           {
            "error_x": {
             "color": "#2a3f5f"
            },
            "error_y": {
             "color": "#2a3f5f"
            },
            "marker": {
             "line": {
              "color": "#E5ECF6",
              "width": 0.5
             },
             "pattern": {
              "fillmode": "overlay",
              "size": 10,
              "solidity": 0.2
             }
            },
            "type": "bar"
           }
          ],
          "barpolar": [
           {
            "marker": {
             "line": {
              "color": "#E5ECF6",
              "width": 0.5
             },
             "pattern": {
              "fillmode": "overlay",
              "size": 10,
              "solidity": 0.2
             }
            },
            "type": "barpolar"
           }
          ],
          "carpet": [
           {
            "aaxis": {
             "endlinecolor": "#2a3f5f",
             "gridcolor": "white",
             "linecolor": "white",
             "minorgridcolor": "white",
             "startlinecolor": "#2a3f5f"
            },
            "baxis": {
             "endlinecolor": "#2a3f5f",
             "gridcolor": "white",
             "linecolor": "white",
             "minorgridcolor": "white",
             "startlinecolor": "#2a3f5f"
            },
            "type": "carpet"
           }
          ],
          "choropleth": [
           {
            "colorbar": {
             "outlinewidth": 0,
             "ticks": ""
            },
            "type": "choropleth"
           }
          ],
          "contour": [
           {
            "colorbar": {
             "outlinewidth": 0,
             "ticks": ""
            },
            "colorscale": [
             [
              0,
              "#0d0887"
             ],
             [
              0.1111111111111111,
              "#46039f"
             ],
             [
              0.2222222222222222,
              "#7201a8"
             ],
             [
              0.3333333333333333,
              "#9c179e"
             ],
             [
              0.4444444444444444,
              "#bd3786"
             ],
             [
              0.5555555555555556,
              "#d8576b"
             ],
             [
              0.6666666666666666,
              "#ed7953"
             ],
             [
              0.7777777777777778,
              "#fb9f3a"
             ],
             [
              0.8888888888888888,
              "#fdca26"
             ],
             [
              1,
              "#f0f921"
             ]
            ],
            "type": "contour"
           }
          ],
          "contourcarpet": [
           {
            "colorbar": {
             "outlinewidth": 0,
             "ticks": ""
            },
            "type": "contourcarpet"
           }
          ],
          "heatmap": [
           {
            "colorbar": {
             "outlinewidth": 0,
             "ticks": ""
            },
            "colorscale": [
             [
              0,
              "#0d0887"
             ],
             [
              0.1111111111111111,
              "#46039f"
             ],
             [
              0.2222222222222222,
              "#7201a8"
             ],
             [
              0.3333333333333333,
              "#9c179e"
             ],
             [
              0.4444444444444444,
              "#bd3786"
             ],
             [
              0.5555555555555556,
              "#d8576b"
             ],
             [
              0.6666666666666666,
              "#ed7953"
             ],
             [
              0.7777777777777778,
              "#fb9f3a"
             ],
             [
              0.8888888888888888,
              "#fdca26"
             ],
             [
              1,
              "#f0f921"
             ]
            ],
            "type": "heatmap"
           }
          ],
          "histogram": [
           {
            "marker": {
             "pattern": {
              "fillmode": "overlay",
              "size": 10,
              "solidity": 0.2
             }
            },
            "type": "histogram"
           }
          ],
          "histogram2d": [
           {
            "colorbar": {
             "outlinewidth": 0,
             "ticks": ""
            },
            "colorscale": [
             [
              0,
              "#0d0887"
             ],
             [
              0.1111111111111111,
              "#46039f"
             ],
             [
              0.2222222222222222,
              "#7201a8"
             ],
             [
              0.3333333333333333,
              "#9c179e"
             ],
             [
              0.4444444444444444,
              "#bd3786"
             ],
             [
              0.5555555555555556,
              "#d8576b"
             ],
             [
              0.6666666666666666,
              "#ed7953"
             ],
             [
              0.7777777777777778,
              "#fb9f3a"
             ],
             [
              0.8888888888888888,
              "#fdca26"
             ],
             [
              1,
              "#f0f921"
             ]
            ],
            "type": "histogram2d"
           }
          ],
          "histogram2dcontour": [
           {
            "colorbar": {
             "outlinewidth": 0,
             "ticks": ""
            },
            "colorscale": [
             [
              0,
              "#0d0887"
             ],
             [
              0.1111111111111111,
              "#46039f"
             ],
             [
              0.2222222222222222,
              "#7201a8"
             ],
             [
              0.3333333333333333,
              "#9c179e"
             ],
             [
              0.4444444444444444,
              "#bd3786"
             ],
             [
              0.5555555555555556,
              "#d8576b"
             ],
             [
              0.6666666666666666,
              "#ed7953"
             ],
             [
              0.7777777777777778,
              "#fb9f3a"
             ],
             [
              0.8888888888888888,
              "#fdca26"
             ],
             [
              1,
              "#f0f921"
             ]
            ],
            "type": "histogram2dcontour"
           }
          ],
          "mesh3d": [
           {
            "colorbar": {
             "outlinewidth": 0,
             "ticks": ""
            },
            "type": "mesh3d"
           }
          ],
          "parcoords": [
           {
            "line": {
             "colorbar": {
              "outlinewidth": 0,
              "ticks": ""
             }
            },
            "type": "parcoords"
           }
          ],
          "pie": [
           {
            "automargin": true,
            "type": "pie"
           }
          ],
          "scatter": [
           {
            "fillpattern": {
             "fillmode": "overlay",
             "size": 10,
             "solidity": 0.2
            },
            "type": "scatter"
           }
          ],
          "scatter3d": [
           {
            "line": {
             "colorbar": {
              "outlinewidth": 0,
              "ticks": ""
             }
            },
            "marker": {
             "colorbar": {
              "outlinewidth": 0,
              "ticks": ""
             }
            },
            "type": "scatter3d"
           }
          ],
          "scattercarpet": [
           {
            "marker": {
             "colorbar": {
              "outlinewidth": 0,
              "ticks": ""
             }
            },
            "type": "scattercarpet"
           }
          ],
          "scattergeo": [
           {
            "marker": {
             "colorbar": {
              "outlinewidth": 0,
              "ticks": ""
             }
            },
            "type": "scattergeo"
           }
          ],
          "scattergl": [
           {
            "marker": {
             "colorbar": {
              "outlinewidth": 0,
              "ticks": ""
             }
            },
            "type": "scattergl"
           }
          ],
          "scattermap": [
           {
            "marker": {
             "colorbar": {
              "outlinewidth": 0,
              "ticks": ""
             }
            },
            "type": "scattermap"
           }
          ],
          "scattermapbox": [
           {
            "marker": {
             "colorbar": {
              "outlinewidth": 0,
              "ticks": ""
             }
            },
            "type": "scattermapbox"
           }
          ],
          "scatterpolar": [
           {
            "marker": {
             "colorbar": {
              "outlinewidth": 0,
              "ticks": ""
             }
            },
            "type": "scatterpolar"
           }
          ],
          "scatterpolargl": [
           {
            "marker": {
             "colorbar": {
              "outlinewidth": 0,
              "ticks": ""
             }
            },
            "type": "scatterpolargl"
           }
          ],
          "scatterternary": [
           {
            "marker": {
             "colorbar": {
              "outlinewidth": 0,
              "ticks": ""
             }
            },
            "type": "scatterternary"
           }
          ],
          "surface": [
           {
            "colorbar": {
             "outlinewidth": 0,
             "ticks": ""
            },
            "colorscale": [
             [
              0,
              "#0d0887"
             ],
             [
              0.1111111111111111,
              "#46039f"
             ],
             [
              0.2222222222222222,
              "#7201a8"
             ],
             [
              0.3333333333333333,
              "#9c179e"
             ],
             [
              0.4444444444444444,
              "#bd3786"
             ],
             [
              0.5555555555555556,
              "#d8576b"
             ],
             [
              0.6666666666666666,
              "#ed7953"
             ],
             [
              0.7777777777777778,
              "#fb9f3a"
             ],
             [
              0.8888888888888888,
              "#fdca26"
             ],
             [
              1,
              "#f0f921"
             ]
            ],
            "type": "surface"
           }
          ],
          "table": [
           {
            "cells": {
             "fill": {
              "color": "#EBF0F8"
             },
             "line": {
              "color": "white"
             }
            },
            "header": {
             "fill": {
              "color": "#C8D4E3"
             },
             "line": {
              "color": "white"
             }
            },
            "type": "table"
           }
          ]
         },
         "layout": {
          "annotationdefaults": {
           "arrowcolor": "#2a3f5f",
           "arrowhead": 0,
           "arrowwidth": 1
          },
          "autotypenumbers": "strict",
          "coloraxis": {
           "colorbar": {
            "outlinewidth": 0,
            "ticks": ""
           }
          },
          "colorscale": {
           "diverging": [
            [
             0,
             "#8e0152"
            ],
            [
             0.1,
             "#c51b7d"
            ],
            [
             0.2,
             "#de77ae"
            ],
            [
             0.3,
             "#f1b6da"
            ],
            [
             0.4,
             "#fde0ef"
            ],
            [
             0.5,
             "#f7f7f7"
            ],
            [
             0.6,
             "#e6f5d0"
            ],
            [
             0.7,
             "#b8e186"
            ],
            [
             0.8,
             "#7fbc41"
            ],
            [
             0.9,
             "#4d9221"
            ],
            [
             1,
             "#276419"
            ]
           ],
           "sequential": [
            [
             0,
             "#0d0887"
            ],
            [
             0.1111111111111111,
             "#46039f"
            ],
            [
             0.2222222222222222,
             "#7201a8"
            ],
            [
             0.3333333333333333,
             "#9c179e"
            ],
            [
             0.4444444444444444,
             "#bd3786"
            ],
            [
             0.5555555555555556,
             "#d8576b"
            ],
            [
             0.6666666666666666,
             "#ed7953"
            ],
            [
             0.7777777777777778,
             "#fb9f3a"
            ],
            [
             0.8888888888888888,
             "#fdca26"
            ],
            [
             1,
             "#f0f921"
            ]
           ],
           "sequentialminus": [
            [
             0,
             "#0d0887"
            ],
            [
             0.1111111111111111,
             "#46039f"
            ],
            [
             0.2222222222222222,
             "#7201a8"
            ],
            [
             0.3333333333333333,
             "#9c179e"
            ],
            [
             0.4444444444444444,
             "#bd3786"
            ],
            [
             0.5555555555555556,
             "#d8576b"
            ],
            [
             0.6666666666666666,
             "#ed7953"
            ],
            [
             0.7777777777777778,
             "#fb9f3a"
            ],
            [
             0.8888888888888888,
             "#fdca26"
            ],
            [
             1,
             "#f0f921"
            ]
           ]
          },
          "colorway": [
           "#636efa",
           "#EF553B",
           "#00cc96",
           "#ab63fa",
           "#FFA15A",
           "#19d3f3",
           "#FF6692",
           "#B6E880",
           "#FF97FF",
           "#FECB52"
          ],
          "font": {
           "color": "#2a3f5f"
          },
          "geo": {
           "bgcolor": "white",
           "lakecolor": "white",
           "landcolor": "#E5ECF6",
           "showlakes": true,
           "showland": true,
           "subunitcolor": "white"
          },
          "hoverlabel": {
           "align": "left"
          },
          "hovermode": "closest",
          "mapbox": {
           "style": "light"
          },
          "paper_bgcolor": "white",
          "plot_bgcolor": "#E5ECF6",
          "polar": {
           "angularaxis": {
            "gridcolor": "white",
            "linecolor": "white",
            "ticks": ""
           },
           "bgcolor": "#E5ECF6",
           "radialaxis": {
            "gridcolor": "white",
            "linecolor": "white",
            "ticks": ""
           }
          },
          "scene": {
           "xaxis": {
            "backgroundcolor": "#E5ECF6",
            "gridcolor": "white",
            "gridwidth": 2,
            "linecolor": "white",
            "showbackground": true,
            "ticks": "",
            "zerolinecolor": "white"
           },
           "yaxis": {
            "backgroundcolor": "#E5ECF6",
            "gridcolor": "white",
            "gridwidth": 2,
            "linecolor": "white",
            "showbackground": true,
            "ticks": "",
            "zerolinecolor": "white"
           },
           "zaxis": {
            "backgroundcolor": "#E5ECF6",
            "gridcolor": "white",
            "gridwidth": 2,
            "linecolor": "white",
            "showbackground": true,
            "ticks": "",
            "zerolinecolor": "white"
           }
          },
          "shapedefaults": {
           "line": {
            "color": "#2a3f5f"
           }
          },
          "ternary": {
           "aaxis": {
            "gridcolor": "white",
            "linecolor": "white",
            "ticks": ""
           },
           "baxis": {
            "gridcolor": "white",
            "linecolor": "white",
            "ticks": ""
           },
           "bgcolor": "#E5ECF6",
           "caxis": {
            "gridcolor": "white",
            "linecolor": "white",
            "ticks": ""
           }
          },
          "title": {
           "x": 0.05
          },
          "xaxis": {
           "automargin": true,
           "gridcolor": "white",
           "linecolor": "white",
           "ticks": "",
           "title": {
            "standoff": 15
           },
           "zerolinecolor": "white",
           "zerolinewidth": 2
          },
          "yaxis": {
           "automargin": true,
           "gridcolor": "white",
           "linecolor": "white",
           "ticks": "",
           "title": {
            "standoff": 15
           },
           "zerolinecolor": "white",
           "zerolinewidth": 2
          }
         }
        },
        "title": {
         "text": "Embudo de usuarios por evento",
         "x": 0.5
        }
       }
      }
     },
     "metadata": {},
     "output_type": "display_data"
    }
   ],
   "source": [
    "# trazar el embudo de eventos\n",
    "# tabla dinámica: primera acción del usuario\n",
    "users = experiment_period.pivot_table(\n",
    "    index='uid',\n",
    "    columns='event_name',\n",
    "    values='dt',\n",
    "    aggfunc='min'\n",
    ")\n",
    "\n",
    "# trazar ruta de eventos\n",
    "step_1 = ~users['MainScreenAppear'].isna()\n",
    "step_2 = step_1 & (users['MainScreenAppear'] < users['OffersScreenAppear'])\n",
    "step_3 = step_2 & (users['OffersScreenAppear'] < users['CartScreenAppear'])\n",
    "step_4 = step_3 & (users['CartScreenAppear'] < users['PaymentScreenSuccessful'])\n",
    "\n",
    "# contar usuarios por evento exceptuando el tutorial\n",
    "n_MainScreenAppear = users[step_1].shape[0]\n",
    "n_OffersScreenAppear = users[step_2].shape[0]\n",
    "n_CartScreenAppear = users[step_3].shape[0]\n",
    "n_PaymentScreenSuccessful = users[step_4].shape[0]\n",
    "\n",
    "# dataframe: embudo de eventos\n",
    "events_name = ['MainScreenAppear', 'OffersScreenAppear', 'CartScreenAppear', 'PaymentScreenSuccessful']\n",
    "steps = [n_MainScreenAppear, n_OffersScreenAppear, n_CartScreenAppear, n_PaymentScreenSuccessful]\n",
    "\n",
    "event_funnel = pd.DataFrame({\n",
    "    'event':events_name,\n",
    "    'users':steps\n",
    "})\n",
    "\n",
    "# calcular proporción de usuarios del paso anterior\n",
    "event_funnel['proportion'] = event_funnel['users'] / event_funnel['users'].iloc[0]\n",
    "event_funnel['proportion'] = (event_funnel['proportion'] * 100).round(2)\n",
    "\n",
    "# trazar embudo: embudo de usuarios por evento\n",
    "fig = go.Figure()\n",
    "fig.add_trace(go.Funnel(\n",
    "    y = event_funnel['event'],\n",
    "    x = event_funnel['users'],\n",
    "    text= event_funnel['proportion'].astype(str) + '%',\n",
    "    textinfo=\"text+value\",\n",
    "    marker={'color':'green'}\n",
    "))\n",
    "\n",
    "fig.update_layout(\n",
    "    title='Embudo de usuarios por evento',\n",
    "    title_x=0.5,\n",
    "    paper_bgcolor = \"black\",\n",
    "    plot_bgcolor = \"black\",\n",
    "    font = dict(color=\"white\")\n",
    ")\n",
    "\n",
    "# mostrar df y embudo\n",
    "print(event_funnel)\n",
    "fig.show()\n"
   ]
  }
 ],
 "metadata": {
  "kernelspec": {
   "display_name": ".venv",
   "language": "python",
   "name": "python3"
  },
  "language_info": {
   "codemirror_mode": {
    "name": "ipython",
    "version": 3
   },
   "file_extension": ".py",
   "mimetype": "text/x-python",
   "name": "python",
   "nbconvert_exporter": "python",
   "pygments_lexer": "ipython3",
   "version": "3.12.7"
  }
 },
 "nbformat": 4,
 "nbformat_minor": 5
}
