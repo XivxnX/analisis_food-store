{
 "cells": [
  {
   "cell_type": "markdown",
   "id": "b7af593a",
   "metadata": {},
   "source": [
    "# Análisis para tienda de alimentos\n",
    "## Objetivo:\n",
    "Estudiar el comportamiento de los usuarios para la aplicación de la empresa.\n",
    "\n",
    "### Objetivos específicos:\n",
    "* Análisis exploratorio:\n",
    "  * Número de eventos y usuarios en los registros\n",
    "  * Promedio de eventos por usuario\n",
    "  * Periodo de los datos\n",
    "  * Confirmación de 3 grupos experimentales\n",
    "\n",
    "* Análisis de embudo:\n",
    "  * Elaborar el embudo\n",
    "  * Proporción de usuarios por cada evento\n",
    "  * Proporción de usuarios que pasan a la siguiente etapa\n",
    "  * Evaluar las etapas\n",
    "  * Cantidad de usuarios que completan el viaje (primer evento hasta pago)\n",
    "\n",
    "* Análisis de experimento A/A/B:\n",
    "  * Número de usuarios por grupo\n",
    "  * Evaluar diferencia entre grupos control (A/A)\n",
    "  * Evaluar diferencia entre eventos para los grupos control\n",
    "  * Comparar diferencia de grupos control con grupo con variante"
   ]
  },
  {
   "cell_type": "markdown",
   "id": "3f901f3e",
   "metadata": {},
   "source": [
    "## Diccionario de datos:\n",
    "* ``EventName``: nombre del evento.\n",
    "* ``DeviceIDHash``: identificador de usuario unívoco.\n",
    "* ``EventTimestamp``: hora del evento.\n",
    "* ``ExpId``: número de experimento. 246 y 247 son los grupos de control, y 248 es el grupo de prueba."
   ]
  }
 ],
 "metadata": {
  "language_info": {
   "name": "python"
  }
 },
 "nbformat": 4,
 "nbformat_minor": 5
}
